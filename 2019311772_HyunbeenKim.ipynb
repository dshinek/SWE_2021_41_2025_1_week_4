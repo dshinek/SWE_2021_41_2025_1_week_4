{
  "cells": [
    {
      "cell_type": "markdown",
      "metadata": {
        "id": "TV3Socqg8BVl"
      },
      "source": [
        "## Task\n",
        "- Complete **isHappy** function following the description below\n",
        "\n",
        "### Happy Number\n",
        "Write an algorithm to determine if a number **n** is happy.\n",
        "\n",
        "A **happy number** is a number defined by the following process:\n",
        "\n",
        "* Starting with any positive integer **n**, replace the number by the sum of the squares of its digits (refer to the testcase 1 below).\n",
        "* If we repeat the process, the number would reach 1 (where it will stay), or it would **loops endlessly in the cycle** without ever reaching 1.\n",
        "* Those numbers for which this process **ends in 1** are happy.\n",
        "\n",
        "Return **true** if n is a happy number, and **false** if not.\n",
        "\n",
        "Constraints:\n",
        "1. 1 <= n <= $2^{31}$ - 1\n",
        "2. Use Base-10 number system"
      ]
    },
    {
      "cell_type": "code",
      "execution_count": 2,
      "metadata": {
        "id": "5FcxitVf5kdQ"
      },
      "outputs": [],
      "source": [
        "def sum_digit_square(n):\n",
        "  total = 0\n",
        "  while n > 0:\n",
        "      digit = n % 10\n",
        "      total = total + digit * digit\n",
        "      n = n // 10\n",
        "  return total\n",
        "\n",
        "def isHappy(n):\n",
        "  visited = set()\n",
        "  while n != 1 and n not in visited:\n",
        "    visited.add(n)\n",
        "    n = sum_digit_square(n)\n",
        "  return n == 1\n"
      ]
    },
    {
      "cell_type": "code",
      "execution_count": 3,
      "metadata": {
        "colab": {
          "base_uri": "https://localhost:8080/"
        },
        "id": "gVFeAUTyw6yQ",
        "outputId": "bbb02281-dbc3-48bc-9646-45e0bc9ee6ef"
      },
      "outputs": [
        {
          "name": "stdout",
          "output_type": "stream",
          "text": [
            "True\n",
            "True\n"
          ]
        }
      ],
      "source": [
        "print(isHappy(19)==True)\n",
        "print(isHappy(16)==False)"
      ]
    },
    {
      "cell_type": "markdown",
      "metadata": {
        "id": "eRrh24Ognrqf"
      },
      "source": [
        "**Testcase 1.**\n",
        "\n",
        "**Input**: 19\n",
        "\n",
        "**Output**: True\n",
        "\n",
        "**Explanation**:\n",
        "\n",
        "$1^2 + 9^2 = 82$\n",
        "\n",
        "$8^2 + 2^2 = 68$\n",
        "\n",
        "$6^2 + 8^2 = 100$\n",
        "\n",
        "$1^2 + 0^2 + 0^2 = 1$\n",
        "\n",
        "$1^2 = 1$ (reached 1 and will not change)"
      ]
    },
    {
      "cell_type": "markdown",
      "metadata": {
        "id": "dE7YMY8qoPoj"
      },
      "source": [
        "**Testcase 2.**\n",
        "\n",
        "**Input**: 16\n",
        "\n",
        "**Output**: False\n",
        "\n",
        "**Explanation**:\n",
        "\n",
        "$1^2 + 6^2 = 37$\n",
        "\n",
        "$3^2 + 7^2 = 58$\n",
        "\n",
        "$5^2 + 8^2 = 89$\n",
        "\n",
        "$8^2 + 9^2 = 145$\n",
        "\n",
        "$1^2 + 4^2 + 5^2 = 42$\n",
        "\n",
        "$4^2 + 2^2 = 20$\n",
        "\n",
        "$2^2 + 0^2 = 4$\n",
        "\n",
        "$4^2 = 16$\n",
        "\n",
        "$1^2 + 6^2 = 37$\n",
        "\n",
        "... (endless loop of 16 ➜ 37 ➜ 58 ➜ 89 ➜ 145 ➜ 42 ➜ 20 ➜ 4 ➜ 16)"
      ]
    }
  ],
  "metadata": {
    "colab": {
      "provenance": [],
      "toc_visible": true
    },
    "kernelspec": {
      "display_name": "base",
      "language": "python",
      "name": "python3"
    },
    "language_info": {
      "codemirror_mode": {
        "name": "ipython",
        "version": 3
      },
      "file_extension": ".py",
      "mimetype": "text/x-python",
      "name": "python",
      "nbconvert_exporter": "python",
      "pygments_lexer": "ipython3",
      "version": "3.11.5"
    }
  },
  "nbformat": 4,
  "nbformat_minor": 0
}
